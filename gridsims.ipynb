{
 "cells": [
  {
   "cell_type": "markdown",
   "metadata": {},
   "source": [
    "## Grid simulations mini-project\n",
    "#### Author: Hannah Sheahan\n",
    "#### Date: 11/07/2019\n",
    "\n",
    "#### There are two questions to answer here in this mini-project:\n",
    "##### 1. Can you get 6-fold modulations in aggregate signal by making randomly directed traversals across a square environment if the underlying neural representation of that space is 6-fold symmetric, just by stacking layers of representations of different scales (according to the known scale difference between them) and with some relative phases between each grid layer.\n",
    "##### 2. How might a 2D/4-fold symmetric structure emerge from a 6-fold grid structure? If 6-fold grid structure does exist, how do people say that they factorised representation into 2 axes? The issue with grid cell patterns (6 fold) is that they dont factorise into 2 dimensions. So how does that transformation/computation take place? This is relevant theory both for the Constantinescu paper and the odor paper.\n",
    "\n",
    "##### 3. What if noise is not symmetric in 2D? i.e. y- and x- gaussian noise is assymetric. There is no obvious reason which way around this should go in 2D cases, but I wonder about what this might do to the inferred lattice just based off of the traversal fMRI literature. Could this give rise to a 6-fold looking lattice when really there is a 4-fold one?"
   ]
  },
  {
   "cell_type": "code",
   "execution_count": 1,
   "metadata": {},
   "outputs": [],
   "source": [
    "import gridHelperFunctions as gf\n",
    "import numpy as np\n",
    "import pandas as pd\n",
    "import scipy.stats as stats\n",
    "from scipy import optimize\n",
    "from scipy import signal\n",
    "import sklearn\n",
    "import matplotlib.pyplot as plt\n",
    "import matplotlib.patches as pltpatches\n",
    "import math\n",
    "import sys\n",
    "import time\n",
    "import random\n",
    "%matplotlib inline"
   ]
  },
  {
   "cell_type": "markdown",
   "metadata": {},
   "source": [
    "## 1.  Create a basic initial layer grid simulator\n",
    "#### Use a coding scheme made up from gaussians with independent noise and spacing variables, i.e. with variables for:\n",
    "###### - spacing between them\n",
    "###### - noise in each gaussian\n",
    "###### - angle of code orientation\n",
    "###### - phase anchor\n",
    "\n",
    "##### Note: defining sinusoids over odd and even rows will not work, as you will end up stretching the grid in the y-axis"
   ]
  },
  {
   "cell_type": "code",
   "execution_count": 9,
   "metadata": {},
   "outputs": [
    {
     "name": "stdout",
     "output_type": "stream",
     "text": [
      "Example grids: hex, square, rectangular\n"
     ]
    },
    {
     "name": "stderr",
     "output_type": "stream",
     "text": [
      "/usr/local/lib/python3.5/site-packages/numpy/ma/core.py:6461: MaskedArrayFutureWarning: In the future the default for ma.maximum.reduce will be axis=0, not the current None, to match np.maximum.reduce. Explicitly pass 0 or None to silence this warning.\n",
      "  return self.reduce(a)\n",
      "/usr/local/lib/python3.5/site-packages/numpy/ma/core.py:6461: MaskedArrayFutureWarning: In the future the default for ma.minimum.reduce will be axis=0, not the current None, to match np.minimum.reduce. Explicitly pass 0 or None to silence this warning.\n",
      "  return self.reduce(a)\n"
     ]
    },
    {
     "data": {
      "image/png": "[encoded data removed]",
      "text/plain": [
       "<matplotlib.figure.Figure at 0x1278b93c8>"
      ]
     },
     "metadata": {},
     "output_type": "display_data"
    }
   ],
   "source": [
    "# Free parameters\n",
    "gridxspacing = 3\n",
    "noise = 0.4\n",
    "angle = 15                      # anti-clockwise rotation\n",
    "phase = 0                       # distance from centre of square in x-dim\n",
    "resolution = 100                 # number of points on x-dim\n",
    "gridrange = [-8, 8]\n",
    "plotrange = [-10, 10]\n",
    "coordMethod = 1\n",
    "#-----------------------\n",
    "print(\"Example grids: hex, square, rectangular\")\n",
    "# Create a hex grid\n",
    "#f, (ax1, ax2, ax3, ax4) = plt.subplots(1, 4)\n",
    "f, (ax1, ax2, ax3) = plt.subplots(1, 3)\n",
    "x,y,z = gf.createHexGrid(gridxspacing, noise, angle, phase, resolution, gridrange, plotrange, coordMethod) \n",
    "gf.plotGrid(ax1, x, y, z, plotrange, \"Hex\", False, gridxspacing, 60, phase, angle, noise)  # beware that if the gridxspacing maxes out this descriptor will be incorrect for the real grid.\n",
    "ax1.set_aspect('equal', adjustable='box')\n",
    "\n",
    "# choose a random max point on the grid (empirical max, not based on known centres)\n",
    "xloc, yloc = gf.findMaxPointCentre(z)\n",
    "ax1.plot(x[xloc][yloc], y[xloc][yloc], marker='x',color='magenta', markersize=20, markeredgewidth=4)\n",
    "\n",
    "# Create a square lattice for comparison\n",
    "xs,ys,zs = gf.createSquareGrid(gridxspacing, noise, angle, phase, resolution, gridrange, plotrange)\n",
    "gf.plotGrid(ax2, xs, ys, zs, plotrange, \"Square\", False, gridxspacing, 90, phase, angle, noise) \n",
    "ax2.set_aspect('equal', adjustable='box')\n",
    "\n",
    "# Create a rectangular lattice for comparison\n",
    "gridyspacing = gridxspacing*0.7\n",
    "xr,yr,zr = gf.createRectGrid(gridxspacing, gridyspacing, noise, angle, phase, resolution, gridrange, plotrange)\n",
    "gf.plotGrid(ax3, xr, yr, zr, plotrange, \"Rect\", False, gridxspacing, 90, phase, angle, noise) \n",
    "ax3.set_aspect('equal', adjustable='box')\n",
    "\n",
    "# Create a lattice with a random axis A and axis B spacing and angle alpha\n",
    "#alpha = random.uniform(0,90)\n",
    "#xran,yran,zran = gf.createGrid(random.uniform(1,10), random.uniform(1,10), random.uniform(0,90), random.uniform(0,7), alpha,  phase, resolution, gridrange, plotrange)\n",
    "#gf.plotGrid(ax4, xran, yran, zran, plotrange, \"Rect\", False, gridxspacing,  alpha, phase, angle, noise) \n",
    "#ax4.set_aspect('equal', adjustable='box')\n",
    "#ax4.set_title(\"Random parameters\")\n",
    "\n",
    "#-------------------------\n",
    "# This is how you stack grids on top of each other\n",
    "#_,_,z2 = gf.createHexGrid(gridxspacing*2, noise*2, angle, phase, resolution, gridrange, plotrange, coordMethod)\n",
    "#_,_,z3 = gf.createHexGrid(gridxspacing*3, noise*5, 0, phase, resolution, gridrange, plotrange, coordMethod)\n",
    "#gf.plotGrid(plt.gca(), x, y, z+z2+z3, plotrange, \"Stacked lattices\", False)\n"
   ]
  },
  {
   "cell_type": "markdown",
   "metadata": {},
   "source": [
    "## 2. Write a function that evaluates the X-foldness of a given grid\n",
    "##### So that we can see a plot of the evidence for a given grid being 6-fold v 5-fold v 4-fold etc\n",
    "\n",
    "#### Symmetry Notes:\n",
    "###### - Formally, each axis of symmetry requires that f(t) = f(-t), for values t along the axis T.\n",
    "###### - If you have a perfect lattice the algorithm for n-fold symmetry is: 1) choose a random point, 2) then expand a radius from that point outwards until it finds the centre of the next closest point (by evaluating when heat starts going in negative gradient after being +ve gradient),3) then finds the line connecting those two, 4) then find the next most closest point that doesnt fall along the same axis. This defines your two grid axes. The distance between them and the angle between them define the form of the lattice. 5) ... Or just take the first line of radius R and rotate it 360 degrees then plot the generated heatmap. BUT! choosing your second point causes issues when you have a multi-scale or low resolution/noisy grid, since your second point as evaluated by the gradient might be a small bubble when the overwhelming pattern is big strong bubbles that are far apart.\n",
    "\n",
    "#### Lattice-fitting Notes: \n",
    "###### - Having written a function to fit lattice parameters to generated data, it turns out lattice fitting is really hard numerical optimisation problem!\n",
    "###### - Increasing the scale of z helps a bit because numerical optimisation performs poorly on v small or v large numbers and ours were pretty small; Even fitting to a single parameter (grid spacing for 1 axis) produces a crazy bumpy fitting surface for even just one parameter! Some other parameters are easier like orientation or phase.\n",
    "###### -Since the fitting surface is mega bumpy, instead define specific n-fold models with all params fixed just different specified n-fold, and see which one of these produces the best fit (argmin SSE).\n",
    "\n"
   ]
  },
  {
   "cell_type": "code",
   "execution_count": 10,
   "metadata": {},
   "outputs": [],
   "source": [
    "# Experiment with fitting different lattice parameters in isolation to data, to see how good lattice-classification is numerically\n",
    "fitModel = False\n",
    "if fitModel:\n",
    "    maxiter = 2\n",
    "    fitwhichparams = [0,0,0,0,0,1]\n",
    "    initparams = [3, 3, 60, 0.4, 15, 3]\n",
    "    fitted_params, fitted_SSE = gf.fitLattice(maxiter, z, fitwhichparams, initparams)\n",
    "\n",
    "    #--------------------\n",
    "    # See what the best fitting parameters were\n",
    "    opt_iter = np.nanargmin(fitted_SSE)\n",
    "    opt_params = fitted_params[opt_iter][:]\n",
    "    str_params = ''.join(\"{:.2f}  \".format(e) for e in opt_params)\n",
    "    print(\"Best fitting parameters: \"+ str_params)\n",
    "    \n",
    "    # View how smooth the fitting surface was for the parameter\n",
    "    ax = gf.visualizeParameterFit(5, fitted_params, fitted_SSE)\n",
    "    \n",
    "    # Plot the grids generated from the model next to data\n",
    "    ax = gf.visualCompareGridModels(x, y, z, [opt_params], gridrange, plotrange)\n",
    "        "
   ]
  },
  {
   "cell_type": "code",
   "execution_count": 11,
   "metadata": {},
   "outputs": [],
   "source": [
    "# Simply the fitting by comparing a set of specific n-fold symmetry models (given A/B spacings, gaussian noise)\n",
    "fitModel = False\n",
    "if fitModel:\n",
    "    maxiter = 3\n",
    "    folds = [4, 6, 7]   # the candidate n-fold symmetry models we will compare\n",
    "    otherparams = [3, 3, 0, 0.4, 0, 0]\n",
    "    nfoldParams, nfoldSSE = gf.fitNFoldModels(maxiter, folds, z, otherparams, False)\n",
    "\n",
    "    # Plot the grids generated from the model next to data\n",
    "    ax = gf.visualCompareGridModels(x, y, z, nfoldParams, gridrange, plotrange)\n",
    "    ax[0].set_title(\"Actual data\")\n",
    "    for i in range(len(folds)):\n",
    "        ax[i+1].set_title(\"Fitted model: {:}-fold\".format(folds[i]))\n"
   ]
  },
  {
   "cell_type": "markdown",
   "metadata": {},
   "source": [
    "## 3. Have an agent make random traversals across a given square grid\n",
    "##### of approx uniformly distributed distances and angles,  (i.e. sample the trajectories uniform randomly from a distance v angle space).\n",
    "\n",
    "##### - plot the aggregate 'highs' traversed across the grid as a function of angle of movement\n",
    "\n",
    "##### Note: uniform random start and end positions on a square give uniform sampling distribution of traj orientation, but shifted ~gaussian distribution of trajectory length (which will mean uneven sampling of distance, but importantly will give non-uniform sampling distance x angle covariance). We need to have uniform p(dist|angle) in order to do this fairly because otherwise aggregate activity will always be greater in angles corresponding to the diagonals. \n",
    "\n",
    "##### - So that means sampling these trajectories over a circle is the fair way to do it to get uniform p(dist|angle). Do this second. ... actually maybe its ok so long as we normalise the activity on a given trajectory over the number of cells hit?"
   ]
  },
  {
   "cell_type": "code",
   "execution_count": 20,
   "metadata": {},
   "outputs": [],
   "source": [
    "def aggregateBresenhamLine(z, start, end):\n",
    "    \"\"\" Use the Bresenham Line Drawing Algorithm to determine which cells on the path from x1,y1 to x2,y2\n",
    "    should be considered 'traversed'. The activity in matrix z of the chosen cell indices is integrated\n",
    "    to form an aggregate across the 'path'.\n",
    "    \n",
    "    Edited from source: http://itsaboutcs.blogspot.com/2015/04/bresenhams-line-drawing-algorithm.html \"\"\"\n",
    "    \n",
    "    aggregateActivity = 0\n",
    "    nCellsTraversed = 0\n",
    "    drawing = np.copy(z)\n",
    "    drawing.fill(0)\n",
    "    \n",
    "    x1, y1 = start\n",
    "    x2, y2 = end\n",
    "    \n",
    "    dx = abs(x2 - x1)\n",
    "    dy = abs(y2 - y1)\n",
    "    slope = dy/float(dx)\n",
    "    \n",
    "    x, y = x1, y1   \n",
    " \n",
    "    # checking the slope if slope > 1 \n",
    "    # then interchange the role of x and y\n",
    "    if slope > 1:\n",
    "        dx, dy = dy, dx\n",
    "        x, y = y, x\n",
    "        x1, y1 = y1, x1\n",
    "        x2, y2 = y2, x2\n",
    " \n",
    "    # initialization of the inital disision parameter\n",
    "    p = 2 * dy - dx\n",
    "    \n",
    "    # Record the activity at this point and increment cell counter\n",
    "    aggregateActivity += z[x,y]\n",
    "    nCellsTraversed += 1\n",
    "    drawing[x,y] = 1\n",
    "\n",
    "    for k in range(2, dx):\n",
    "        if p > 0:\n",
    "            y = y + 1 if y < y2 else y - 1\n",
    "            p = p + 2*(dy - dx)\n",
    "        else:\n",
    "            p = p + 2*dy\n",
    " \n",
    "        x = x + 1 if x < x2 else x - 1\n",
    "        \n",
    "        # Record the activity at this point and increment cell counter\n",
    "        aggregateActivity += z[x,y]\n",
    "        nCellsTraversed += 1\n",
    "        drawing[x,y] = 1\n",
    "    \n",
    "    return aggregateActivity, nCellsTraversed, drawing\n",
    "    "
   ]
  },
  {
   "cell_type": "code",
   "execution_count": 26,
   "metadata": {},
   "outputs": [
    {
     "name": "stderr",
     "output_type": "stream",
     "text": [
      "/usr/local/lib/python3.5/site-packages/numpy/ma/core.py:6461: MaskedArrayFutureWarning: In the future the default for ma.maximum.reduce will be axis=0, not the current None, to match np.maximum.reduce. Explicitly pass 0 or None to silence this warning.\n",
      "  return self.reduce(a)\n",
      "/usr/local/lib/python3.5/site-packages/numpy/ma/core.py:6461: MaskedArrayFutureWarning: In the future the default for ma.minimum.reduce will be axis=0, not the current None, to match np.minimum.reduce. Explicitly pass 0 or None to silence this warning.\n",
      "  return self.reduce(a)\n"
     ]
    },
    {
     "data": {
      "text/plain": [
       "<matplotlib.text.Text at 0x11ec3abe0>"
      ]
     },
     "execution_count": 26,
     "metadata": {},
     "output_type": "execute_result"
    },
    {
     "data": {
      "image/png": "[encoded data removed]",
      "text/plain": [
       "<matplotlib.figure.Figure at 0x11e6f4208>"
      ]
     },
     "metadata": {},
     "output_type": "display_data"
    },
    {
     "data": {
      "text/plain": [
       "<matplotlib.figure.Figure at 0x12213bd68>"
      ]
     },
     "metadata": {},
     "output_type": "display_data"
    },
    {
     "data": {
      "image/png": "[encoded data removed]",
      "text/plain": [
       "<matplotlib.figure.Figure at 0x11e327908>"
      ]
     },
     "metadata": {},
     "output_type": "display_data"
    }
   ],
   "source": [
    "# Sample trajectories over a square...\n",
    "\n",
    "# sample starting and finishing positions evenly across the square\n",
    "# then plot the resulting distribution of distances and angles of traversal\n",
    "# then perform those traversals and record the net activity summed along that path\n",
    "\n",
    "# remember that you will need to normalize the aggregate activity over the number of x,y cells actually hit on a trajectory, because this will always be more closer to the cardinal axes than to 45 deg\n",
    "\n",
    "\n",
    "# Note: uniform random start and end point sampling on a square produces non-uniform distribution of trajectory lengths (but uniform dist of traj angles)\n",
    "numSamples = 1000\n",
    "\n",
    "ref_vector = [1, 0]                    # measuring angles CCW from +ve x-axis\n",
    "distances  = np.zeros((numSamples,1))\n",
    "distances.fill(np.nan)\n",
    "angles  = np.zeros((numSamples,1))\n",
    "angles.fill(np.nan)\n",
    "netActivity = np.zeros((numSamples,1))\n",
    "netActivity.fill(np.nan)\n",
    "numCells = np.zeros((numSamples,1))\n",
    "numCells.fill(np.nan)\n",
    "drawing = np.copy(z)\n",
    "drawing.fill(0)\n",
    "\n",
    "for sample in range(numSamples):\n",
    "    sample_start = np.asarray([ random.randrange(0,resolution), random.randrange(0,resolution) ]) # random index on grid\n",
    "    sample_end   = np.asarray([ random.randrange(0,resolution), random.randrange(0,resolution) ])\n",
    "    sample_vect  = sample_end - sample_start\n",
    "    vect_angle   =  math.degrees(gf.angle_between(ref_vector, sample_vect))\n",
    "    vect_dist    = np.linalg.norm(sample_vect)\n",
    "\n",
    "    # Use Bresenham's line algorithm to determine which discrete cells of z are traversed on this path\n",
    "    aggrActivity, nCellsTraversed, nextline = aggregateBresenhamLine(z, sample_start, sample_end)\n",
    "    \n",
    "    distances[sample] = vect_dist\n",
    "    angles[sample] = vect_angle\n",
    "    netActivity[sample] = aggrActivity\n",
    "    numCells[sample] = nCellsTraversed\n",
    "    drawing += nextline\n",
    "\n",
    "plt.figure()\n",
    "plt.contourf(x,y,drawing)\n",
    "axes = plt.gca()\n",
    "axes.set_aspect('equal', adjustable='box')\n",
    "axes.axis('off')\n",
    "axes.set_title('Discrete cell traversals')\n",
    "   \n",
    "plt.figure()\n",
    "fig, ax = plt.subplots(1,2)\n",
    "ax[0].hist(distances)\n",
    "ax[0].set_xlabel('Distance travelled')\n",
    "ax[0].set_ylabel('Samples')\n",
    "\n",
    "ax[1].hist(angles)\n",
    "ax[1].set_xlabel('Trajectory angle (CCW from +ve x-axis)')\n",
    "ax[1].set_ylabel('Samples')\n",
    "\n",
    "#------------------------------------\n",
    "\n"
   ]
  },
  {
   "cell_type": "code",
   "execution_count": null,
   "metadata": {},
   "outputs": [],
   "source": []
  },
  {
   "cell_type": "code",
   "execution_count": null,
   "metadata": {},
   "outputs": [],
   "source": []
  }
 ],
 "metadata": {
  "kernelspec": {
   "display_name": "Python 3",
   "language": "python",
   "name": "python3"
  },
  "language_info": {
   "codemirror_mode": {
    "name": "ipython",
    "version": 3
   },
   "file_extension": ".py",
   "mimetype": "text/x-python",
   "name": "python",
   "nbconvert_exporter": "python",
   "pygments_lexer": "ipython3",
   "version": "3.5.2"
  }
 },
 "nbformat": 4,
 "nbformat_minor": 2
}
