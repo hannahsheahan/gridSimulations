{
 "cells": [
  {
   "cell_type": "markdown",
   "metadata": {},
   "source": [
    "## Grid simulations mini-project\n",
    "#### Author: Hannah Sheahan\n",
    "#### Date: 11/07/2019\n",
    "\n",
    "#### There are two questions to answer here in this mini-project:\n",
    "##### 1. Can you get 6-fold modulations in aggregate signal by making randomly directed traversals across a square environment if the underlying neural representation of that space is 6-fold symmetric, just by stacking layers of representations of different scales (according to the known scale difference between them) and with some relative phases between each grid layer.\n",
    "##### 2. How might a 2D/4-fold symmetric structure emerge from a 6-fold grid structure? If 6-fold grid structure does exist, how do people say that they factorised representation into 2 axes? The issue with grid cell patterns (6 fold) is that they dont factorise into 2 dimensions. So how does that transformation/computation take place? This is relevant theory both for the Constantinescu paper and the odor paper.\n",
    "\n",
    "##### 3. What if noise is not symmetric in 2D? i.e. y- and x- gaussian noise is assymetric. There is no obvious reason which way around this should go in 2D cases, but I wonder about what this might do to the inferred lattice just based off of the traversal fMRI literature. Could this give rise to a 6-fold looking lattice when really there is a 4-fold one?"
   ]
  },
  {
   "cell_type": "code",
   "execution_count": 1,
   "metadata": {},
   "outputs": [],
   "source": [
    "import gridHelperFunctions as gf\n",
    "import numpy as np\n",
    "import pandas as pd\n",
    "import scipy.stats as stats\n",
    "from scipy import optimize\n",
    "from scipy import signal\n",
    "import sklearn\n",
    "import matplotlib.pyplot as plt\n",
    "import matplotlib.patches as pltpatches\n",
    "import math\n",
    "import sys\n",
    "import time\n",
    "import random\n",
    "%matplotlib inline"
   ]
  },
  {
   "cell_type": "markdown",
   "metadata": {},
   "source": [
    "## 1.  Create a basic initial layer grid simulator\n",
    "#### Use a coding scheme made up from gaussians with independent noise and spacing variables, i.e. with variables for:\n",
    "###### - spacing between them\n",
    "###### - noise in each gaussian\n",
    "###### - angle of code orientation\n",
    "###### - phase anchor\n",
    "\n",
    "##### Note: defining sinusoids over odd and even rows will not work, as you will end up stretching the grid in the y-axis"
   ]
  },
  {
   "cell_type": "code",
   "execution_count": 50,
   "metadata": {},
   "outputs": [
    {
     "name": "stderr",
     "output_type": "stream",
     "text": [
      "/usr/local/lib/python3.5/site-packages/numpy/ma/core.py:6461: MaskedArrayFutureWarning: In the future the default for ma.maximum.reduce will be axis=0, not the current None, to match np.maximum.reduce. Explicitly pass 0 or None to silence this warning.\n",
      "  return self.reduce(a)\n",
      "/usr/local/lib/python3.5/site-packages/numpy/ma/core.py:6461: MaskedArrayFutureWarning: In the future the default for ma.minimum.reduce will be axis=0, not the current None, to match np.minimum.reduce. Explicitly pass 0 or None to silence this warning.\n",
      "  return self.reduce(a)\n"
     ]
    },
    {
     "data": {
      "text/plain": [
       "<matplotlib.text.Text at 0x110638160>"
      ]
     },
     "execution_count": 50,
     "metadata": {},
     "output_type": "execute_result"
    },
    {
     "data": {
      "image/png": "[encoded data removed]",
      "text/plain": [
       "<matplotlib.figure.Figure at 0x1116a4f60>"
      ]
     },
     "metadata": {},
     "output_type": "display_data"
    }
   ],
   "source": [
    "# Free parameters\n",
    "gridxspacing = 3\n",
    "noise = 0.4\n",
    "angle = 15                      # anti-clockwise rotation\n",
    "phase = 0                       # distance from centre of square in x-dim\n",
    "resolution = 100                 # number of points on x-dim\n",
    "gridrange = [-8, 8]\n",
    "plotrange = [-10, 10]\n",
    "coordMethod = 1\n",
    "#-----------------------\n",
    "# Create a hex grid\n",
    "f, (ax1, ax2, ax3, ax4) = plt.subplots(1, 4)\n",
    "x,y,z = gf.createHexGrid(gridxspacing, noise, angle, phase, resolution, gridrange, plotrange, coordMethod) \n",
    "gf.plotGrid(ax1, x, y, z, plotrange, \"Hex\", False, gridxspacing, 60, phase, angle, noise)  # beware that if the gridxspacing maxes out this descriptor will be incorrect for the real grid.\n",
    "ax1.set_aspect('equal', adjustable='box')\n",
    "\n",
    "# choose a random max point on the grid (empirical max, not based on known centres)\n",
    "xloc, yloc = gf.findMaxPointCentre(z)\n",
    "ax1.plot(x[xloc][yloc], y[xloc][yloc], marker='x',color='magenta', markersize=20, markeredgewidth=4)\n",
    "\n",
    "# Create a square lattice for comparison\n",
    "xs,ys,zs = gf.createSquareGrid(gridxspacing, noise, angle, phase, resolution, gridrange, plotrange)\n",
    "gf.plotGrid(ax2, xs, ys, zs, plotrange, \"Square\", False, gridxspacing, 90, phase, angle, noise) \n",
    "ax2.set_aspect('equal', adjustable='box')\n",
    "\n",
    "# Create a rectangular lattice for comparison\n",
    "gridyspacing = gridxspacing*0.7\n",
    "xr,yr,zr = gf.createRectGrid(gridxspacing, gridyspacing, noise, angle, phase, resolution, gridrange, plotrange)\n",
    "gf.plotGrid(ax3, xr, yr, zr, plotrange, \"Rect\", False, gridxspacing, 90, phase, angle, noise) \n",
    "ax3.set_aspect('equal', adjustable='box')\n",
    "\n",
    "# Create a lattice with a random axis A and axis B spacing and angle alpha\n",
    "alpha = random.uniform(0,90)\n",
    "xran,yran,zran = gf.createGrid(random.uniform(1,10), random.uniform(1,10), random.uniform(0,90), random.uniform(0,7), alpha,  phase, resolution, gridrange, plotrange)\n",
    "gf.plotGrid(ax4, xran, yran, zran, plotrange, \"Rect\", False, gridxspacing,  alpha, phase, angle, noise) \n",
    "ax4.set_aspect('equal', adjustable='box')\n",
    "ax4.set_title(\"Random parameters\")\n"
   ]
  },
  {
   "cell_type": "code",
   "execution_count": 51,
   "metadata": {},
   "outputs": [],
   "source": [
    "# Now try stacking some grids for fun (seems to work fine, looks like a wacky alien thing which is cool, just like for the planets)\n",
    "_,_,z2 = gf.createHexGrid(gridxspacing*2, noise*2, angle, phase, resolution, gridrange, plotrange, coordMethod)\n",
    "_,_,z3 = gf.createHexGrid(gridxspacing*3, noise*5, 0, phase, resolution, gridrange, plotrange, coordMethod)\n",
    "\n",
    "#gf.plotGrid(plt.gca(), x, y, z+z2+z3, plotrange, \"Stacked lattices\", False)\n"
   ]
  },
  {
   "cell_type": "markdown",
   "metadata": {},
   "source": [
    "## 2. Write a function that evaluates the X-foldness of a given grid\n",
    "##### so that we can see a plot of the evidence for a given grid being 6-fold v 5-fold v 4-fold etc\n",
    "\n",
    "#### Symmetry notes:\n",
    "###### - Formally, each axis of symmetry requires that f(t) = f(-t), for values t along the axis T.\n",
    "###### - If you have a perfect lattice the algorithm for n-fold symmetry is: 1) choose a random point, 2) then expand a radius from that point outwards until it finds the centre of the next closest point (by evaluating when heat starts going in negative gradient after being +ve gradient),3) then finds the line connecting those two, 4) then find the next most closest point that doesnt fall along the same axis. This defines your two grid axes. The distance between them and the angle between them define the form of the lattice. 5) ... Or just take the first line of radius R and rotate it 360 degrees then plot the generated heatmap. BUT! choosing your second point causes issues when you have a multi-scale or low resolution/noisy grid, since your second point as evaluated by the gradient might be a small bubble when the overwhelming pattern is big strong bubbles that are far apart.\n",
    "\n",
    "#### Lattice fitting notes: \n",
    "###### - Having written a function to fit lattice parameters to generated data, it turns out lattice fitting is really hard numerical optimisation problem! e.g. it took 32 min to optimise 100 iterations over 3 parameters only, WITH bounds, AND the best solution is completely wrong!\n",
    "###### - Increasing the scale of z helps a bit because numerical optimisation performs poorly on v small or v large numbers and ours were pretty small.\n",
    "###### - Even fitting to a single parameter (grid spacing for 1 axis) produces a crazy bumpy fitting surface for even just one parameter! This is not promising for multiple parameters.\n",
    "###### - ***Since the fitting surface is mega bumpy, instead define specific n-fold models with all params fixed just different specified n-fold, and see which one of these produces the best fit (argmin SSE).\n",
    "\n"
   ]
  },
  {
   "cell_type": "code",
   "execution_count": null,
   "metadata": {},
   "outputs": [
    {
     "name": "stdout",
     "output_type": "stream",
     "text": [
      "Running optimisation...\n"
     ]
    }
   ],
   "source": [
    "\n",
    "def fitLattice(numiter, gridrange, z):\n",
    "    start = time.time()\n",
    "    num_params = 6\n",
    "\n",
    "    fitted_params = np.zeros((numiter,num_params))\n",
    "    fitted_params.fill(np.nan)\n",
    "    fitted_SSE = np.zeros((numiter,1))\n",
    "    fitted_SSE.fill(np.nan)\n",
    "\n",
    "    # Format grid data for fitting and fit a grid function to it\n",
    "    resolution = z.shape[0]\n",
    "    values = np.linspace(gridrange[0], gridrange[1], resolution)\n",
    "    x,y = np.meshgrid(values, values) \n",
    "    zdata = z.ravel()*10000\n",
    "\n",
    "    for i in range(numiter):\n",
    "        print(\"Running optimisation...\")\n",
    "        # Params: gridAspacing, gridBspacing, alpha, noise, angle, phase\n",
    "        init_spacex = random.uniform(1,5)\n",
    "        init_spacey = random.uniform(1,5)\n",
    "        init_alpha = random.uniform(5,90)\n",
    "        try:\n",
    "            params, params_covariance = optimize.curve_fit(gf.fitGridFunc, x, zdata, p0=[init_spacex, init_spacey, init_alpha, 0.4, 15, 0], bounds=([1,1,10,0.4,15,0],[5,5,90,0.41,15.1,0.01]))\n",
    "            SSE = sum((gf.fitGridFunc(x, *params) - zdata)**2)\n",
    "            fitted_params[i] = params\n",
    "            fitted_SSE[i] = SSE\n",
    "        except RuntimeError:\n",
    "            print(\"\\n Error: max number of fit iterations hit. Moving on...\")\n",
    "\n",
    "        # display our optimisation iteration progress\n",
    "        sys.stdout.write('\\r')\n",
    "        j = (i + 1) / numiter\n",
    "        sys.stdout.write(\"\\n[%-20s] %d%% complete\" % ('-'*int(20*j), 100*j))\n",
    "        sys.stdout.flush()\n",
    "\n",
    "    end = time.time()\n",
    "    print(\"\\nOptimisation over {:} iterations took {:.0f} s\".format(numiter,end-start))\n",
    "    return fitted_params, fitted_SSE\n",
    "\n",
    "#--------------------\n",
    "fitted_params, fitted_SSE = fitLattice(2, gridrange, z)"
   ]
  },
  {
   "cell_type": "code",
   "execution_count": 57,
   "metadata": {},
   "outputs": [
    {
     "name": "stdout",
     "output_type": "stream",
     "text": [
      "[2.16087812e+00 3.39750405e+00 6.30130743e+01 4.00000000e-01\n",
      " 1.51000000e+01 1.00000000e-02]\n"
     ]
    },
    {
     "data": {
      "text/plain": [
       "[<matplotlib.lines.Line2D at 0x110c83d30>]"
      ]
     },
     "execution_count": 57,
     "metadata": {},
     "output_type": "execute_result"
    },
    {
     "data": {
      "image/png": "[encoded data removed]",
      "text/plain": [
       "<matplotlib.figure.Figure at 0x1109747b8>"
      ]
     },
     "metadata": {},
     "output_type": "display_data"
    }
   ],
   "source": [
    "opt_iter = np.nanargmin(fitted_SSE)\n",
    "opt_params = fitted_params[opt_iter][:]\n",
    "print(opt_params)\n",
    "params = opt_params\n",
    "\n",
    "plt.figure()\n",
    "tmp = [fitted_params[i][0] for i in range(len(fitted_params))]\n",
    "plt.plot(tmp, 'x')\n"
   ]
  },
  {
   "cell_type": "code",
   "execution_count": 40,
   "metadata": {},
   "outputs": [
    {
     "name": "stdout",
     "output_type": "stream",
     "text": [
      "[6.82851980e+00 1.40287780e+00 4.64694291e+01 4.10000000e-01\n",
      " 1.50000000e+01 1.52288054e-75]\n"
     ]
    },
    {
     "name": "stderr",
     "output_type": "stream",
     "text": [
      "/usr/local/lib/python3.5/site-packages/numpy/ma/core.py:6461: MaskedArrayFutureWarning: In the future the default for ma.maximum.reduce will be axis=0, not the current None, to match np.maximum.reduce. Explicitly pass 0 or None to silence this warning.\n",
      "  return self.reduce(a)\n",
      "/usr/local/lib/python3.5/site-packages/numpy/ma/core.py:6461: MaskedArrayFutureWarning: In the future the default for ma.minimum.reduce will be axis=0, not the current None, to match np.minimum.reduce. Explicitly pass 0 or None to silence this warning.\n",
      "  return self.reduce(a)\n"
     ]
    },
    {
     "data": {
      "image/png": "[encoded data removed]",
      "text/plain": [
       "<matplotlib.figure.Figure at 0x110db6ba8>"
      ]
     },
     "metadata": {},
     "output_type": "display_data"
    }
   ],
   "source": [
    "# Plot the actual data, and next to it data generated from the fitted model\n",
    "f, (ax1, ax2) = plt.subplots(1, 2)\n",
    "\n",
    "# Actual data\n",
    "gf.plotGrid(ax1, x, y, z, plotrange, \"Actual data\", False) \n",
    "ax1.set_aspect('equal', adjustable='box')\n",
    "ax1.set_title(\"Actual data\")\n",
    "\n",
    "# Fitted model\n",
    "f_Aspace, f_Bspace, f_alpha, f_noise, f_angle, f_phase = params\n",
    "#xfit,yfit,zfit = gf.createGrid(f_Aspace, f_Bspace, f_alpha, f_noise, f_angle, f_phase, resolution, gridrange, plotrange)\n",
    "xfit,yfit,zfit = gf.createGrid(*params, resolution, gridrange, plotrange)\n",
    "#xfit,yfit,zfit = gf.createGrid(3, 3, 60, 0.4, 15, 0, resolution, gridrange, plotrange)\n",
    "gf.plotGrid(ax2, xfit, yfit, zfit, plotrange, \"Fitted\", False, f_Aspace) \n",
    "ax2.set_aspect('equal', adjustable='box')\n",
    "ax2.set_title(\"Fitted model\")\n",
    "\n",
    "# control models should be at grid angles of  90°, 72°, 51.4° and 45°  which (according to constantinescu et al) corresponds to 4-fold, 6-fold, 7-fold and 8-fold symmetries. \n",
    "\n",
    "print(params)\n",
    "\n"
   ]
  },
  {
   "cell_type": "code",
   "execution_count": 14,
   "metadata": {},
   "outputs": [
    {
     "name": "stdout",
     "output_type": "stream",
     "text": [
      "([1, 4, 5],)\n",
      "<class 'tuple'>\n"
     ]
    }
   ],
   "source": []
  },
  {
   "cell_type": "markdown",
   "metadata": {},
   "source": [
    "## 3. Have an agent make random traversals across a given square grid\n",
    "##### of approx uniformly distributed distances and angles,  (i.e. sample the trajectories uniform randomly from a distance v angle space).\n",
    "\n",
    "##### - plot the aggregate 'highs' traversed across the grid as a function of angle of movement"
   ]
  },
  {
   "cell_type": "code",
   "execution_count": null,
   "metadata": {},
   "outputs": [],
   "source": [
    "# Code goes here\n"
   ]
  },
  {
   "cell_type": "code",
   "execution_count": null,
   "metadata": {},
   "outputs": [],
   "source": []
  }
 ],
 "metadata": {
  "kernelspec": {
   "display_name": "Python 3",
   "language": "python",
   "name": "python3"
  },
  "language_info": {
   "codemirror_mode": {
    "name": "ipython",
    "version": 3
   },
   "file_extension": ".py",
   "mimetype": "text/x-python",
   "name": "python",
   "nbconvert_exporter": "python",
   "pygments_lexer": "ipython3",
   "version": "3.5.2"
  }
 },
 "nbformat": 4,
 "nbformat_minor": 2
}
