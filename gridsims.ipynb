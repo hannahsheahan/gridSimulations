{
 "cells": [
  {
   "cell_type": "markdown",
   "metadata": {},
   "source": [
    "## Grid simulations mini-project\n",
    "#### Author: Hannah Sheahan\n",
    "#### Date: 11/07/2019\n",
    "\n",
    "#### There are two questions to answer here in this mini-project:\n",
    "##### 1. Can you get 6-fold modulations in aggregate signal by making randomly directed traversals across a square environment if the underlying neural representation of that space is 6-fold symmetric, just by stacking layers of representations of different scales (according to the known scale difference between them) and with some relative phases between each grid layer.\n",
    "##### 2. How might a 2D/4-fold symmetric structure emerge from a 6-fold grid structure? If 6-fold grid structure does exist, how do people say that they factorised representation into 2 axes? The issue with grid cell patterns (6 fold) is that they dont factorise into 2 dimensions. So how does that transformation/computation take place? This is relevant theory both for the Constantinescu paper and the odor paper.\n",
    "\n",
    "##### 3. What if noise is not symmetric in 2D? i.e. y- and x- gaussian noise is assymetric. There is no obvious reason which way around this should go in 2D cases, but I wonder about what this might do to the inferred lattice just based off of the traversal fMRI literature. Could this give rise to a 6-fold looking lattice when really there is a 4-fold one?"
   ]
  },
  {
   "cell_type": "code",
   "execution_count": 1,
   "metadata": {},
   "outputs": [],
   "source": [
    "import gridHelperFunctions as gf\n",
    "import numpy as np\n",
    "import pandas as pd\n",
    "import scipy.stats as stats\n",
    "from scipy import signal\n",
    "import sklearn\n",
    "import matplotlib.pyplot as plt\n",
    "import matplotlib.patches as pltpatches\n",
    "import math\n",
    "import sys\n",
    "import time\n",
    "import random\n",
    "%matplotlib inline\n"
   ]
  },
  {
   "cell_type": "markdown",
   "metadata": {},
   "source": [
    "## 1.  Create a basic initial layer grid simulator\n",
    "#### Use a coding scheme made up from gaussians with independent noise and spacing variables, i.e. with variables for:\n",
    "###### - spacing between them\n",
    "###### - noise in each gaussian\n",
    "###### - angle of code orientation\n",
    "###### - phase anchor\n",
    "\n",
    "##### Note: defining sinusoids over odd and even rows will not work, as you will end up stretching the grid in the y-axis"
   ]
  },
  {
   "cell_type": "code",
   "execution_count": 11,
   "metadata": {},
   "outputs": [
    {
     "name": "stderr",
     "output_type": "stream",
     "text": [
      "/usr/local/lib/python3.5/site-packages/numpy/ma/core.py:6461: MaskedArrayFutureWarning: In the future the default for ma.maximum.reduce will be axis=0, not the current None, to match np.maximum.reduce. Explicitly pass 0 or None to silence this warning.\n",
      "  return self.reduce(a)\n",
      "/usr/local/lib/python3.5/site-packages/numpy/ma/core.py:6461: MaskedArrayFutureWarning: In the future the default for ma.minimum.reduce will be axis=0, not the current None, to match np.minimum.reduce. Explicitly pass 0 or None to silence this warning.\n",
      "  return self.reduce(a)\n"
     ]
    },
    {
     "data": {
      "text/plain": [
       "<matplotlib.text.Text at 0x118d2dbe0>"
      ]
     },
     "execution_count": 11,
     "metadata": {},
     "output_type": "execute_result"
    },
    {
     "data": {
      "image/png": "[encoded data removed]",
      "text/plain": [
       "<matplotlib.figure.Figure at 0x10c35fb00>"
      ]
     },
     "metadata": {},
     "output_type": "display_data"
    }
   ],
   "source": [
    "# Free parameters\n",
    "gridxspacing = 3\n",
    "noise = 0.4\n",
    "angle = math.radians(15)        # anti-clockwise rotation\n",
    "phase = 0                       # distance from centre of square in x-dim\n",
    "resolution = 100                 # number of points on x-dim\n",
    "gridrange = [-8, 8]\n",
    "plotrange = [-10, 10]\n",
    "coordMethod = 1\n",
    "#-----------------------\n",
    "# Create a hex grid\n",
    "f, (ax1, ax2, ax3, ax4) = plt.subplots(1, 4)\n",
    "x,y,z = gf.createHexGrid(gridxspacing, noise, angle, phase, resolution, gridrange, plotrange, coordMethod) \n",
    "gf.plotGrid(ax1, x, y, z, plotrange, \"Hex\", False, gridxspacing, phase, angle, noise)  # beware that if the gridxspacing maxes out this descriptor will be incorrect for the real grid.\n",
    "ax1.set_aspect('equal', adjustable='box')\n",
    "\n",
    "# choose a random max point on the grid (empirical max, not based on known centres)\n",
    "xloc, yloc = gf.findMaxPointCentre(z)\n",
    "ax1.plot(x[xloc][yloc], y[xloc][yloc], marker='x',color='magenta', markersize=20, markeredgewidth=4)\n",
    "\n",
    "# Create a square lattice for comparison\n",
    "xs,ys,zs = gf.createSquareGrid(gridxspacing, noise, angle, phase, resolution, gridrange, plotrange)\n",
    "gf.plotGrid(ax2, xs, ys, zs, plotrange, \"Square\", False, gridxspacing, phase, angle, noise) \n",
    "ax2.set_aspect('equal', adjustable='box')\n",
    "\n",
    "# Create a rectangular lattice for comparison\n",
    "gridyspacing = gridxspacing*0.7\n",
    "xr,yr,zr = gf.createRectGrid(gridxspacing, gridyspacing, noise, angle, phase, resolution, gridrange, plotrange)\n",
    "gf.plotGrid(ax3, xr, yr, zr, plotrange, \"Rect\", False, gridxspacing, phase, angle, noise) \n",
    "ax3.set_aspect('equal', adjustable='box')\n",
    "\n",
    "# Create a lattice with a random axis A and axis B spacing and angle alpha\n",
    "xran,yran,zran = gf.createGrid(random.uniform(1,10), random.uniform(1,10), random.uniform(0,90), random.uniform(0,7), random.uniform(0,90), phase, resolution, gridrange, plotrange)\n",
    "gf.plotGrid(ax4, xran, yran, zran, plotrange, \"Rect\", False, gridxspacing, phase, angle, noise) \n",
    "ax4.set_aspect('equal', adjustable='box')\n",
    "ax4.set_title(\"Random parameters\")\n"
   ]
  },
  {
   "cell_type": "code",
   "execution_count": 10,
   "metadata": {},
   "outputs": [],
   "source": [
    "# Now try stacking some grids for fun (seems to work fine, looks like a wacky alien thing which is cool, just like for the planets)\n",
    "_,_,z2 = gf.createHexGrid(gridxspacing*2, noise*2, angle, phase, resolution, gridrange, plotrange, coordMethod)\n",
    "_,_,z3 = gf.createHexGrid(gridxspacing*3, noise*5, 0, phase, resolution, gridrange, plotrange, coordMethod)\n",
    "#gf.plotGrid(x, y, z+z2+z3, plotrange, False)\n"
   ]
  },
  {
   "cell_type": "markdown",
   "metadata": {},
   "source": [
    "## 2. Write a function that evaluates the X-foldness of a given grid\n",
    "##### so that we can see a plot of the evidence for a given grid being 6-fold v 5-fold v 4-fold etc\n"
   ]
  },
  {
   "cell_type": "code",
   "execution_count": null,
   "metadata": {},
   "outputs": [],
   "source": [
    "# is the way to do this to choose a given point closest to the centre, 0,0, and then choose a second point closest to that point (**actually it could be any other point on the map), draw a line between them and then record the activity associated with rotating that line around 360 degrees?\n",
    "# we should get some kind of activity vs angle pattern and can fit n-fold wave-form models to it to see which N-fold explains the most variance etc\n",
    "# repeat x all dots within some range. * I'm pretty sure this method will work when drawing a line between one dot and any other dot in the scene. The phase of the activation pattern will be different for each pair of dots but the frequency will be the same.\n",
    "\n",
    "# some sort of Fourier analysis might work?\n",
    "# ok more formally, each axis of symmetry requires that f(t) = f(-t), for values t along the axis T\n",
    "\n",
    "# I guess I could choose a random angle theta, flip the image about that angle at a particular point and the check the correlation between the flipped image and the other side? that wouuld give correlations in heatmap at each angle.\n",
    "\n",
    "# ***best way is to choose a random point, then expand a radius from that point outwards until it finds the centre of the next closest point (by evaluating when heat starts going in negative gradient), then finds the line connecting those two, then finds the next most closest point that doesnt fall along the same axis. This defines your two grid axes. The distance between them and the angle between them define the form of the lattice. Or just take the first line of radius R and rotate it 360 degrees then plot the generated heatmap. That waveform can be mapped to different kinds of lattices. Can do fourier analysis on the resulting waveform.)\n",
    "\n",
    "# ^^^ argh actually no its not, because choosing the subsequent point causes issues when you have a multi-scale or low resolution/noisy grid, since your subsequent point might be a small bubble when the overwhelming pattern is big strong bubbles that are far apart\n",
    "\n",
    "# ***best method is really to simulate all 5 lattices, each with different input parameters, then allow each model to fit these params to the generated data and see which one is best.\n",
    "\n",
    "\n",
    "# have a go!\n"
   ]
  },
  {
   "cell_type": "code",
   "execution_count": null,
   "metadata": {},
   "outputs": [],
   "source": [
    "# choose a random max point on the grid (empirical max, not based on known centres)\n",
    "xloc, yloc = gf.findMaxPointCentre(z)\n",
    "\n",
    "\n",
    "# control models should be at grid angles of  90°, 72°, 51.4° and 45°  which (according to constantinescu et al) corresponds to 4-fold, 6-fold, 7-fold and 8-fold symmetries. \n",
    "\n",
    "# so it means that the fitting procedure will also fit for xspacing, yspacing, alpha, as well as hte other params and together these will define the grid\n",
    "\n"
   ]
  },
  {
   "cell_type": "markdown",
   "metadata": {},
   "source": [
    "## 3. Have an agent make random traversals across a given square grid\n",
    "##### of approx uniformly distributed distances and angles,  (i.e. sample the trajectories uniform randomly from a distance v angle space).\n",
    "\n",
    "##### - plot the aggregate 'highs' traversed across the grid as a function of angle of movement"
   ]
  },
  {
   "cell_type": "code",
   "execution_count": null,
   "metadata": {},
   "outputs": [],
   "source": [
    "# Code goes here\n"
   ]
  },
  {
   "cell_type": "code",
   "execution_count": null,
   "metadata": {},
   "outputs": [],
   "source": []
  }
 ],
 "metadata": {
  "kernelspec": {
   "display_name": "Python 3",
   "language": "python",
   "name": "python3"
  },
  "language_info": {
   "codemirror_mode": {
    "name": "ipython",
    "version": 3
   },
   "file_extension": ".py",
   "mimetype": "text/x-python",
   "name": "python",
   "nbconvert_exporter": "python",
   "pygments_lexer": "ipython3",
   "version": "3.5.2"
  }
 },
 "nbformat": 4,
 "nbformat_minor": 2
}
