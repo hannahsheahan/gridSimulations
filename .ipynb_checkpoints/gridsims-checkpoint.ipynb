{
 "cells": [
  {
   "cell_type": "markdown",
   "metadata": {},
   "source": [
    "## Grid simulations mini-project\n",
    "#### Author: Hannah Sheahan\n",
    "#### Date: 11/07/2019\n",
    "\n",
    "#### There are two questions to answer here in this mini-project:\n",
    "##### 1. Can you get 6-fold modulations in aggregate signal by making randomly directed traversals across a square environment if the underlying neural representation of that space is 6-fold symmetric, just by stacking layers of representations of different scales (according to the known scale difference between them) and with some relative phases between each grid layer.\n",
    "##### 2. How might a 2D/4-fold symmetric structure emerge from a 6-fold grid structure? If 6-fold grid structure does exist, how do people say that they factorised representation into 2 axes? The issue with grid cell patterns (6 fold) is that they dont factorise into 2 dimensions. So how does that transformation/computation take place? This is relevant theory both for the Constantinescu paper and the odor paper.\n",
    "\n",
    "##### 3. What if noise is not symmetric in 2D? i.e. y- and x- gaussian noise is assymetric. There is no obvious reason which way around this should go in 2D cases, but I wonder about what this might do to the inferred lattice just based off of the traversal fMRI literature. Could this give rise to a 6-fold looking lattice when really there is a 4-fold one?"
   ]
  },
  {
   "cell_type": "code",
   "execution_count": 1,
   "metadata": {},
   "outputs": [],
   "source": [
    "import gridHelperFunctions as gf\n",
    "import numpy as np\n",
    "import pandas as pd\n",
    "import scipy.stats as stats\n",
    "from scipy import optimize\n",
    "from scipy import signal\n",
    "import sklearn\n",
    "import matplotlib.pyplot as plt\n",
    "import matplotlib.patches as pltpatches\n",
    "import math\n",
    "import sys\n",
    "import time\n",
    "import random\n",
    "%matplotlib inline"
   ]
  },
  {
   "cell_type": "markdown",
   "metadata": {},
   "source": [
    "## 1.  Create a basic initial layer grid simulator\n",
    "#### Use a coding scheme made up from gaussians with independent noise and spacing variables, i.e. with variables for:\n",
    "###### - spacing between them\n",
    "###### - noise in each gaussian\n",
    "###### - angle of code orientation\n",
    "###### - phase anchor\n",
    "\n",
    "##### Note: defining sinusoids over odd and even rows will not work, as you will end up stretching the grid in the y-axis"
   ]
  },
  {
   "cell_type": "code",
   "execution_count": 2,
   "metadata": {},
   "outputs": [
    {
     "name": "stderr",
     "output_type": "stream",
     "text": [
      "/usr/local/lib/python3.5/site-packages/numpy/ma/core.py:6461: MaskedArrayFutureWarning: In the future the default for ma.maximum.reduce will be axis=0, not the current None, to match np.maximum.reduce. Explicitly pass 0 or None to silence this warning.\n",
      "  return self.reduce(a)\n",
      "/usr/local/lib/python3.5/site-packages/numpy/ma/core.py:6461: MaskedArrayFutureWarning: In the future the default for ma.minimum.reduce will be axis=0, not the current None, to match np.minimum.reduce. Explicitly pass 0 or None to silence this warning.\n",
      "  return self.reduce(a)\n"
     ]
    },
    {
     "data": {
      "text/plain": [
       "<matplotlib.text.Text at 0x113224780>"
      ]
     },
     "execution_count": 2,
     "metadata": {},
     "output_type": "execute_result"
    },
    {
     "data": {
      "image/png": "[encoded data removed]",
      "text/plain": [
       "<matplotlib.figure.Figure at 0x111128da0>"
      ]
     },
     "metadata": {},
     "output_type": "display_data"
    }
   ],
   "source": [
    "# Free parameters\n",
    "gridxspacing = 3\n",
    "noise = 0.4\n",
    "angle = 15                      # anti-clockwise rotation\n",
    "phase = 0                       # distance from centre of square in x-dim\n",
    "resolution = 100                 # number of points on x-dim\n",
    "gridrange = [-8, 8]\n",
    "plotrange = [-10, 10]\n",
    "coordMethod = 1\n",
    "#-----------------------\n",
    "# Create a hex grid\n",
    "f, (ax1, ax2, ax3, ax4) = plt.subplots(1, 4)\n",
    "x,y,z = gf.createHexGrid(gridxspacing, noise, angle, phase, resolution, gridrange, plotrange, coordMethod) \n",
    "gf.plotGrid(ax1, x, y, z, plotrange, \"Hex\", False, gridxspacing, 60, phase, angle, noise)  # beware that if the gridxspacing maxes out this descriptor will be incorrect for the real grid.\n",
    "ax1.set_aspect('equal', adjustable='box')\n",
    "\n",
    "# choose a random max point on the grid (empirical max, not based on known centres)\n",
    "xloc, yloc = gf.findMaxPointCentre(z)\n",
    "ax1.plot(x[xloc][yloc], y[xloc][yloc], marker='x',color='magenta', markersize=20, markeredgewidth=4)\n",
    "\n",
    "# Create a square lattice for comparison\n",
    "xs,ys,zs = gf.createSquareGrid(gridxspacing, noise, angle, phase, resolution, gridrange, plotrange)\n",
    "gf.plotGrid(ax2, xs, ys, zs, plotrange, \"Square\", False, gridxspacing, 90, phase, angle, noise) \n",
    "ax2.set_aspect('equal', adjustable='box')\n",
    "\n",
    "# Create a rectangular lattice for comparison\n",
    "gridyspacing = gridxspacing*0.7\n",
    "xr,yr,zr = gf.createRectGrid(gridxspacing, gridyspacing, noise, angle, phase, resolution, gridrange, plotrange)\n",
    "gf.plotGrid(ax3, xr, yr, zr, plotrange, \"Rect\", False, gridxspacing, 90, phase, angle, noise) \n",
    "ax3.set_aspect('equal', adjustable='box')\n",
    "\n",
    "# Create a lattice with a random axis A and axis B spacing and angle alpha\n",
    "alpha = random.uniform(0,90)\n",
    "xran,yran,zran = gf.createGrid(random.uniform(1,10), random.uniform(1,10), random.uniform(0,90), random.uniform(0,7), alpha,  phase, resolution, gridrange, plotrange)\n",
    "gf.plotGrid(ax4, xran, yran, zran, plotrange, \"Rect\", False, gridxspacing,  alpha, phase, angle, noise) \n",
    "ax4.set_aspect('equal', adjustable='box')\n",
    "ax4.set_title(\"Random parameters\")\n"
   ]
  },
  {
   "cell_type": "code",
   "execution_count": 3,
   "metadata": {},
   "outputs": [],
   "source": [
    "# Now try stacking some grids for fun (seems to work fine, looks like a wacky alien thing which is cool, just like for the planets)\n",
    "_,_,z2 = gf.createHexGrid(gridxspacing*2, noise*2, angle, phase, resolution, gridrange, plotrange, coordMethod)\n",
    "_,_,z3 = gf.createHexGrid(gridxspacing*3, noise*5, 0, phase, resolution, gridrange, plotrange, coordMethod)\n",
    "\n",
    "#gf.plotGrid(plt.gca(), x, y, z+z2+z3, plotrange, \"Stacked lattices\", False)\n"
   ]
  },
  {
   "cell_type": "markdown",
   "metadata": {},
   "source": [
    "## 2. Write a function that evaluates the X-foldness of a given grid\n",
    "##### so that we can see a plot of the evidence for a given grid being 6-fold v 5-fold v 4-fold etc\n",
    "\n",
    "#### Symmetry notes:\n",
    "###### - Formally, each axis of symmetry requires that f(t) = f(-t), for values t along the axis T.\n",
    "###### - If you have a perfect lattice the algorithm for n-fold symmetry is: 1) choose a random point, 2) then expand a radius from that point outwards until it finds the centre of the next closest point (by evaluating when heat starts going in negative gradient after being +ve gradient),3) then finds the line connecting those two, 4) then find the next most closest point that doesnt fall along the same axis. This defines your two grid axes. The distance between them and the angle between them define the form of the lattice. 5) ... Or just take the first line of radius R and rotate it 360 degrees then plot the generated heatmap. BUT! choosing your second point causes issues when you have a multi-scale or low resolution/noisy grid, since your second point as evaluated by the gradient might be a small bubble when the overwhelming pattern is big strong bubbles that are far apart.\n",
    "\n",
    "#### Lattice fitting notes: \n",
    "###### - Having written a function to fit lattice parameters to generated data, it turns out lattice fitting is really hard numerical optimisation problem! e.g. it took 32 min to optimise 100 iterations over 3 parameters only, WITH bounds, AND the best solution is completely wrong!\n",
    "###### - Increasing the scale of z helps a bit because numerical optimisation performs poorly on v small or v large numbers and ours were pretty small.\n",
    "###### - Even fitting to a single parameter (grid spacing for 1 axis) produces a crazy bumpy fitting surface for even just one parameter! This is not promising for multiple parameters.\n",
    "###### - ***Since the fitting surface is mega bumpy, instead define specific n-fold models with all params fixed just different specified n-fold, and see which one of these produces the best fit (argmin SSE).\n",
    "\n"
   ]
  },
  {
   "cell_type": "code",
   "execution_count": 5,
   "metadata": {},
   "outputs": [
    {
     "name": "stdout",
     "output_type": "stream",
     "text": [
      "Inside function initparams: [3, 2, 60, 0.4, 15, 0]\n",
      "[3, 1, 60, 0.4, 15, 0]\n",
      "[3.000000001, 5, 60.000000001, 0.40000000100000005, 15.000000001, 1e-09]\n",
      "Running optimisation...\n",
      "[3, 2, 60, 0.4, 15, 0]\n",
      "\n",
      "[----                ] 20% complete\n",
      "Bounds: LB 1, UB 5\n",
      "[3, 2.5769650289257697, 60, 0.4, 15, 0]\n",
      "\n",
      "[--------            ] 40% complete\n",
      "Bounds: LB 1, UB 5\n",
      "[3, 2.198702271271074, 60, 0.4, 15, 0]\n",
      "\n",
      "[------------        ] 60% complete\n",
      "Bounds: LB 1, UB 5\n",
      "[3, 1.4581879200297894, 60, 0.4, 15, 0]\n",
      "\n",
      "[----------------    ] 80% complete\n",
      "Bounds: LB 1, UB 5\n",
      "[3, 3.672510769062852, 60, 0.4, 15, 0]\n",
      "\n",
      "[--------------------] 100% complete\n",
      "Bounds: LB 1, UB 5\n",
      "\n",
      "Optimisation over 5 iterations took 16 s\n"
     ]
    }
   ],
   "source": [
    "#--------------------\n",
    "maxiter = 5\n",
    "fitwhichparams = [0,1,0,0,0,0]\n",
    "initparams = [3, 2, 60, 0.4, 15, 0]\n",
    "fitted_params, fitted_SSE = gf.fitLattice(maxiter, z, fitwhichparams, initparams)\n"
   ]
  },
  {
   "cell_type": "code",
   "execution_count": null,
   "metadata": {},
   "outputs": [],
   "source": [
    "opt_iter = np.nanargmin(fitted_SSE)\n",
    "opt_params = fitted_params[opt_iter][:]\n",
    "print(opt_params)\n",
    "params = opt_params\n",
    "\n",
    "plt.figure()\n",
    "tmp_p = [fitted_params[i][2] for i in range(len(fitted_params))]\n",
    "tmp_SSE = [fitted_SSE[i] for i in range(len(fitted_SSE))]\n",
    "plt.plot(tmp_p,tmp_SSE, 'x')\n",
    "plt.ylabel(\"SSE\")\n",
    "plt.xlabel(\"Parameter value\")\n"
   ]
  },
  {
   "cell_type": "code",
   "execution_count": null,
   "metadata": {},
   "outputs": [],
   "source": []
  },
  {
   "cell_type": "code",
   "execution_count": null,
   "metadata": {},
   "outputs": [],
   "source": [
    "# Plot the actual data, and next to it data generated from the fitted model\n",
    "f, (ax1, ax2) = plt.subplots(1, 2)\n",
    "\n",
    "# Actual data\n",
    "gf.plotGrid(ax1, x, y, z, plotrange, \"Actual data\", False) \n",
    "ax1.set_aspect('equal', adjustable='box')\n",
    "ax1.set_title(\"Actual data\")\n",
    "\n",
    "# Fitted model\n",
    "xfit,yfit,zfit = gf.createGrid(*params, resolution, gridrange, plotrange)\n",
    "gf.plotGrid(ax2, xfit, yfit, zfit, plotrange, \"Fitted\", False, f_Aspace) \n",
    "ax2.set_aspect('equal', adjustable='box')\n",
    "ax2.set_title(\"Fitted model\")\n",
    "\n",
    "# control models should be at grid angles of  90°, 72°, 51.4° and 45°  which (according to constantinescu et al) corresponds to 4-fold, 6-fold, 7-fold and 8-fold symmetries. \n"
   ]
  },
  {
   "cell_type": "code",
   "execution_count": null,
   "metadata": {},
   "outputs": [],
   "source": [
    "# Ok fitting model parameters is tricky because of the mega bumpy fitting surface of lattices, so instead write a function that compares the set of specific models and outputs the SSE of each\n",
    "\n",
    "def fitNFoldModels(maxiter, folds, gridrange, z, otherparams):\n",
    "    # This function will fit n-fold symmetry lattice models to the data in z, given all the other parameters (otherparams) except angle and phase.\n",
    "    # Choose which n-fold models to test by specifying a list 'folds' e.g. [4,6,7,8]\n",
    "    # Fix the other parameters listed in otherparams (and provide a starting guess for the angle and phase) e.g. [3, 3, 90, 0.4, 0, 0]\n",
    "    # Lattice parameters: gridAspacing, gridBspacing, alpha, noise, angle, phase\n",
    "    # Note: the third parameter input to otherparams is meaningless because we fix this by the n-fold.\n",
    "    \n",
    "    nfoldSSE = np.zeros((len(folds),1))\n",
    "    nfoldSSE.fill(np.nan)\n",
    "    nfoldParams = np.zeros((len(folds),len(otherparams)))\n",
    "    nfoldParams.fill(np.nan)\n",
    "    \n",
    "    for i in range(len(folds)):\n",
    "        testfold = folds[i]\n",
    "        \n",
    "        # fit to the angle for this fold of symmetry\n",
    "        alpha = 360/testfold\n",
    "        guess_params = [otherparams[i] for i in range(len(otherparams))]\n",
    "        guess_params[2] = alpha\n",
    "        print(\"guess_params: {:}\".format(guess_params))\n",
    "        fitted_params, fitted_SSE = gf.fitLattice(maxiter, gridrange, z, fitwhichparams=[0,0,0,0,1,1], initparams=guess_params)\n",
    "\n",
    "        # choose the best fit for this fold\n",
    "        opt_iter = np.nanargmin(fitted_SSE)\n",
    "        opt_params = fitted_params[opt_iter][:]\n",
    "        nfoldSSE[i] = fitted_SSE[opt_iter]\n",
    "        nfoldParams[i] = opt_params\n",
    "        \n",
    "        print(\"=======================\")\n",
    "        print(\"Fitted params for {:}-fold symmetry: {:}\".format(testfold, opt_params))\n",
    "        print(\"SSE: {:}\".format(nfoldSSE[i]))\n",
    "        print(\"=======================\")\n",
    "    \n",
    "    bestFold = np.argmin(nfoldSSE)\n",
    "    plt.figure()\n",
    "    plt.plot(folds, nfoldSSE, 'x', color='blue', markeredgewidth=2, ms=10)\n",
    "    plt.plot(folds[bestFold], nfoldSSE[bestFold], 'x', color='deeppink', markeredgewidth=3, ms=12)\n",
    "    plt.ylabel('SSE of n-fold model fit')\n",
    "    plt.xlabel('n-fold symmetry model')\n",
    "    ax = plt.gca()\n",
    "    ax.set_xlim([1,10])\n",
    "    ax.set_ylim([np.min(nfoldSSE)*0.95,np.max(nfoldSSE)*1.05])\n",
    "\n",
    "maxiter = 2\n",
    "folds = [4, 6]\n",
    "otherparams = [3, 3, 90, 0.4, 0, 0]\n",
    "fitNFoldModels(maxiter, folds, z, otherparams)\n"
   ]
  },
  {
   "cell_type": "markdown",
   "metadata": {},
   "source": [
    "## 3. Have an agent make random traversals across a given square grid\n",
    "##### of approx uniformly distributed distances and angles,  (i.e. sample the trajectories uniform randomly from a distance v angle space).\n",
    "\n",
    "##### - plot the aggregate 'highs' traversed across the grid as a function of angle of movement"
   ]
  },
  {
   "cell_type": "code",
   "execution_count": null,
   "metadata": {},
   "outputs": [],
   "source": [
    "# Code goes here\n"
   ]
  },
  {
   "cell_type": "code",
   "execution_count": null,
   "metadata": {},
   "outputs": [],
   "source": []
  }
 ],
 "metadata": {
  "kernelspec": {
   "display_name": "Python 3",
   "language": "python",
   "name": "python3"
  },
  "language_info": {
   "codemirror_mode": {
    "name": "ipython",
    "version": 3
   },
   "file_extension": ".py",
   "mimetype": "text/x-python",
   "name": "python",
   "nbconvert_exporter": "python",
   "pygments_lexer": "ipython3",
   "version": "3.5.2"
  }
 },
 "nbformat": 4,
 "nbformat_minor": 2
}
