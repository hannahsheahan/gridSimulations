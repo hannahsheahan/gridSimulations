{
 "cells": [
  {
   "cell_type": "markdown",
   "metadata": {},
   "source": [
    "## Grid simulations mini-project\n",
    "#### Author: Hannah Sheahan\n",
    "#### Date: 11/07/2019\n",
    "\n",
    "#### There are two questions to answer here in this mini-project:\n",
    "##### 1. Can you get 6-fold modulations in aggregate signal by making randomly directed traversals across a square environment if the underlying neural representation of that space is 6-fold symmetric, just by stacking layers of representations of different scales (according to the known scale difference between them) and with some relative phases between each grid layer.\n",
    "##### 2. How might a 2D/4-fold symmetric structure emerge from a 6-fold grid structure? If 6-fold grid structure does exist, how do people say that they factorised representation into 2 axes? The issue with grid cell patterns (6 fold) is that they dont factorise into 2 dimensions. So how does that transformation/computation take place? This is relevant theory both for the Constantinescu paper and the odor paper."
   ]
  },
  {
   "cell_type": "code",
   "execution_count": 2,
   "metadata": {},
   "outputs": [],
   "source": [
    "import numpy as np\n",
    "import pandas as pd\n",
    "import scipy.stats as stats\n",
    "from scipy import signal\n",
    "import sklearn\n",
    "import matplotlib.pyplot as plt\n",
    "import matplotlib.patches as pltpatches\n",
    "import math\n",
    "import sys\n",
    "import time\n",
    "import random\n",
    "%matplotlib inline\n"
   ]
  },
  {
   "cell_type": "markdown",
   "metadata": {},
   "source": [
    "## 1.  Create a basic initial layer grid simulator\n",
    "#### Use a coding scheme made up from gaussians with independent noise and spacing variables, i.e. with variables for:\n",
    "###### - spacing between them\n",
    "###### - noise in each gaussian\n",
    "###### - angle of code orientation\n",
    "###### - phase anchor\n"
   ]
  },
  {
   "cell_type": "code",
   "execution_count": 27,
   "metadata": {},
   "outputs": [
    {
     "name": "stderr",
     "output_type": "stream",
     "text": [
      "/usr/local/lib/python3.5/site-packages/numpy/ma/core.py:6461: MaskedArrayFutureWarning: In the future the default for ma.maximum.reduce will be axis=0, not the current None, to match np.maximum.reduce. Explicitly pass 0 or None to silence this warning.\n",
      "  return self.reduce(a)\n",
      "/usr/local/lib/python3.5/site-packages/numpy/ma/core.py:6461: MaskedArrayFutureWarning: In the future the default for ma.minimum.reduce will be axis=0, not the current None, to match np.minimum.reduce. Explicitly pass 0 or None to silence this warning.\n",
      "  return self.reduce(a)\n"
     ]
    },
    {
     "data": {
      "image/png": "[encoded data removed]",
      "text/plain": [
       "<matplotlib.figure.Figure at 0x11b784cf8>"
      ]
     },
     "metadata": {},
     "output_type": "display_data"
    }
   ],
   "source": [
    "# Free parameters\n",
    "gridxspacing = 2.2\n",
    "noise = 0.3\n",
    "angle = math.radians(0)         \n",
    "phase = 0                       # distance from centre of square in x-dim\n",
    "resolution = 200                # number of points on x-dim\n",
    "gridrange = [-8, 8]\n",
    "plotrange = [-5, 5]\n",
    "\n",
    "#-----------------------\n",
    "def gaussian(x, mu, sig):\n",
    "    return np.exp(-np.power(x - mu, 2.) / (2 * np.power(sig, 2.)))\n",
    "#-----------------------\n",
    "\n",
    "def define1DGrid(values, centres, noise, resolution):\n",
    "    # - centres are the grid peaks\n",
    "    # - values are the x-points and there are 'resolution' number of indices\n",
    "    wave = [0 for i in range(resolution)]\n",
    "    for i in range(len(centres)):\n",
    "        wave +=  gaussian(values, centres[i], noise)\n",
    "    \n",
    "    return wave\n",
    "#-----------------------\n",
    "\n",
    "def rotateGrid(x, y, angle):\n",
    "    # rotate the meshgrid values\n",
    "    newx = [None for i in range(len(x))]\n",
    "    newy = [None for i in range(len(y))]\n",
    "    for i in range(len(x)):\n",
    "        newx[i] = x[i] * math.cos(angle) - y[i] * math.sin(angle)\n",
    "        newy[i] = x[i] * math.sin(angle) + y[i] * math.cos(angle)       \n",
    "    return newx, newy\n",
    "#-----------------------\n",
    "\n",
    "# Define the grid centres for the x- and y-dimension\n",
    "gridyspacing = gridxspacing * math.sin(math.radians(60)) * 2   # y-space between odd rows (we will separate odd and even rows to create a hex grid) \n",
    "values = np.linspace(gridrange[0], gridrange[1], resolution)\n",
    "gridxcentres_odd = np.arange(-gridrange[1]+phase,gridrange[1]+1,gridxspacing)                  # ***HRS watch out for this little hack that puts a +1 on the upper range to cover more area\n",
    "gridycentres_odd = np.arange(-gridrange[1],gridrange[1],gridyspacing)\n",
    "gridxcentres_even = np.arange(-gridrange[1]+phase+gridxspacing/2,gridrange[1]+1,gridxspacing)  # ***HRS watch out for this little hack that puts a +1 on the upper range to cover more area\n",
    "gridycentres_even = np.arange(-gridrange[1]+gridyspacing/2,gridrange[1],gridyspacing)\n",
    "\n",
    "x, y = np.meshgrid(values, values) \n",
    "\n",
    "\n",
    "# Define the triangular/hex pattern as repeating odd and even rows of gaussian waves\n",
    "z_odd = define1DGrid(x, gridxcentres_odd, noise, resolution) * define1DGrid(y, gridycentres_odd, noise, resolution)\n",
    "z_even = define1DGrid(x, gridxcentres_even, noise, resolution) * define1DGrid(y, gridycentres_even, noise, resolution)\n",
    "z = z_odd + z_even\n",
    "xnew, ynew = rotateGrid(x,y,angle)\n",
    "\n",
    "# Plot the grid\n",
    "h = plt.contourf(xnew,ynew,z)\n",
    "plt.colorbar()\n",
    "ax = plt.gca()\n",
    "ax.axis('equal')\n",
    "\n",
    "\n",
    "plt.show()\n"
   ]
  },
  {
   "cell_type": "code",
   "execution_count": 79,
   "metadata": {},
   "outputs": [
    {
     "data": {
      "text/plain": [
       "<matplotlib.text.Text at 0x119f11a90>"
      ]
     },
     "execution_count": 79,
     "metadata": {},
     "output_type": "execute_result"
    },
    {
     "data": {
      "image/png": "[encoded data removed]",
      "text/plain": [
       "<matplotlib.figure.Figure at 0x1158060b8>"
      ]
     },
     "metadata": {},
     "output_type": "display_data"
    }
   ],
   "source": [
    "# Visualise the grid here\n",
    "\n",
    "plt.plot(window)\n",
    "plt.title(r\"Gaussian window ($\\sigma$=7)\")\n",
    "plt.ylabel(\"Amplitude\")\n",
    "plt.xlabel(\"Sample\")\n"
   ]
  },
  {
   "cell_type": "markdown",
   "metadata": {},
   "source": [
    "## 2.  Create a second, more basic initial layer grid simulator\n",
    "#### Use a coding scheme made up from sinusoidal waves, i.e. with variables for:\n",
    "###### - periodicity of the waves (captures both noise and separation of peaks in one and makes them proportional)\n",
    "###### - angle of code orientation\n",
    "###### - phase anchor\n"
   ]
  },
  {
   "cell_type": "code",
   "execution_count": 7,
   "metadata": {},
   "outputs": [],
   "source": [
    "# Write code for simulator here"
   ]
  },
  {
   "cell_type": "code",
   "execution_count": 8,
   "metadata": {},
   "outputs": [],
   "source": [
    "# Visualise the grid here"
   ]
  },
  {
   "cell_type": "markdown",
   "metadata": {},
   "source": [
    "## 3. Write a function that evaluates the X-foldness of a given grid\n",
    "##### so that we can see a plot of the evidence for a given grid being 6-fold v 5-fold v 4-fold etc\n"
   ]
  },
  {
   "cell_type": "code",
   "execution_count": 10,
   "metadata": {},
   "outputs": [],
   "source": [
    "# Code goes here"
   ]
  },
  {
   "cell_type": "markdown",
   "metadata": {},
   "source": [
    "## 4. Have an agent make random traversals across a given square grid\n",
    "##### of approx uniformly distributed distances and angles,  (i.e. sample the trajectories uniform randomly from a distance v angle space).\n",
    "\n",
    "##### - plot the aggregate 'highs' traversed across the grid as a function of angle of movement"
   ]
  },
  {
   "cell_type": "code",
   "execution_count": null,
   "metadata": {},
   "outputs": [],
   "source": [
    "# Code goes here\n"
   ]
  },
  {
   "cell_type": "code",
   "execution_count": null,
   "metadata": {},
   "outputs": [],
   "source": []
  }
 ],
 "metadata": {
  "kernelspec": {
   "display_name": "Python 3",
   "language": "python",
   "name": "python3"
  },
  "language_info": {
   "codemirror_mode": {
    "name": "ipython",
    "version": 3
   },
   "file_extension": ".py",
   "mimetype": "text/x-python",
   "name": "python",
   "nbconvert_exporter": "python",
   "pygments_lexer": "ipython3",
   "version": "3.5.2"
  }
 },
 "nbformat": 4,
 "nbformat_minor": 2
}
