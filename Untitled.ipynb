{
 "cells": [
  {
   "cell_type": "code",
   "execution_count": 31,
   "metadata": {},
   "outputs": [
    {
     "name": "stdout",
     "output_type": "stream",
     "text": [
      "Current student loan: NZ$ 41387.00 (£ 22132.09)\n",
      "Interest accrued in year 2019: NZ$ 1655.48 (£ 885.28)\n",
      "=====================================================\n",
      "\n"
     ]
    }
   ],
   "source": [
    "# student loan interest calculator\n",
    "\n",
    "# minimum annual repayment = NZ$3k, ~£1500\n",
    "# annual interest rate = 4% but I think its accrued daily so \n",
    "\n",
    "\n",
    "debt_initial = 41387 # NZ dollars\n",
    "interest_rate = 0.04   # added on only 1x per year, but calculated based on balance every day\n",
    "\n",
    "# exchange rate = 1 : 1.87  GBP:NZD\n",
    "exch = 1.87\n",
    "debt_initial_GBP = 41387 / exch\n",
    "year = 2019\n",
    "\n",
    "interest = debt_initial * interest_rate\n",
    "interest_GBP = interest /exch\n",
    "\n",
    "print(\"Current student loan: NZ$ {:.{}f} (£ {:.{}f})\".format( debt_initial, 2, debt_initial_GBP, 2 ))\n",
    "print(\"Interest accrued in year {:}: NZ$ {:.{}f} (£ {:.{}f})\".format( year, interest, 2, interest_GBP, 2 ))\n",
    "print(\"=====================================================\\n\")\n",
    "\n",
    "# --------------\n",
    "def calculateRepayment(startyear, initial_debt, annual_repayment, interest_rate):\n",
    "    year = startyear\n",
    "    debt = debt_initial\n",
    "    debt_GBP = debt / exch\n",
    "    interest = debt * interest_rate\n",
    "    interest_GBP = interest / exch\n",
    "        \n",
    "    total_interest = 0\n",
    "    while debt > 0:\n",
    "        print(\"{:} student loan: NZ$ {:.{}f} (£ {:.{}f})\".format( year, debt, 2, debt_GBP, 2 ))\n",
    "        print(\"       Interest accrued: NZ$ {:.{}f} (£ {:.{}f})\".format( interest, 2, interest_GBP, 2 ))\n",
    "        debt = debt - annual_repayment\n",
    "        debt_GBP = debt / exch\n",
    "        interest = debt * interest_rate\n",
    "        interest_GBP = interest / exch\n",
    "        year += 1\n",
    "        if (interest > 0):\n",
    "            total_interest += interest\n",
    "\n",
    "    total_interest_GBP = total_interest / exch\n",
    "    print(\"------------------------------------\")\n",
    "    print(\"Total interest paid: NZ$ {:} (£ {:})\".format(total_interest, total_interest_GBP))\n",
    "    print(\"Student loan pay off in {:} years\".format(year-2019))\n",
    "\n",
    "# ----------------"
   ]
  },
  {
   "cell_type": "code",
   "execution_count": 35,
   "metadata": {},
   "outputs": [
    {
     "name": "stdout",
     "output_type": "stream",
     "text": [
      "2019 student loan: NZ$ 41387.00 (£ 22132.09)\n",
      "       Interest accrued: NZ$ 1655.48 (£ 885.28)\n",
      "2020 student loan: NZ$ 36001.40 (£ 19252.09)\n",
      "       Interest accrued: NZ$ 1440.06 (£ 770.08)\n",
      "2021 student loan: NZ$ 30615.80 (£ 16372.09)\n",
      "       Interest accrued: NZ$ 1224.63 (£ 654.88)\n",
      "2022 student loan: NZ$ 25230.20 (£ 13492.09)\n",
      "       Interest accrued: NZ$ 1009.21 (£ 539.68)\n",
      "2023 student loan: NZ$ 19844.60 (£ 10612.09)\n",
      "       Interest accrued: NZ$ 793.78 (£ 424.48)\n",
      "2024 student loan: NZ$ 14459.00 (£ 7732.09)\n",
      "       Interest accrued: NZ$ 578.36 (£ 309.28)\n",
      "2025 student loan: NZ$ 9073.40 (£ 4852.09)\n",
      "       Interest accrued: NZ$ 362.94 (£ 194.08)\n",
      "2026 student loan: NZ$ 3687.80 (£ 1972.09)\n",
      "       Interest accrued: NZ$ 147.51 (£ 78.88)\n",
      "------------------------------------\n",
      "Total interest paid: NZ$ 5556.488000000002 (£ 2971.3839572192524)\n",
      "Student loan pay off in 8 years\n"
     ]
    }
   ],
   "source": [
    "# If you pay back with different repayment per year:\n",
    "# minimum rate = 3000\n",
    "\n",
    "annual_repayment = 240 * exch * 12  # minimum annual repayment according to IRD\n",
    "startyear = 2019\n",
    "calculateRepayment(startyear, debt_initial, annual_repayment, interest_rate)\n"
   ]
  },
  {
   "cell_type": "code",
   "execution_count": null,
   "metadata": {},
   "outputs": [],
   "source": []
  }
 ],
 "metadata": {
  "kernelspec": {
   "display_name": "Python 3",
   "language": "python",
   "name": "python3"
  },
  "language_info": {
   "codemirror_mode": {
    "name": "ipython",
    "version": 3
   },
   "file_extension": ".py",
   "mimetype": "text/x-python",
   "name": "python",
   "nbconvert_exporter": "python",
   "pygments_lexer": "ipython3",
   "version": "3.5.2"
  }
 },
 "nbformat": 4,
 "nbformat_minor": 2
}
